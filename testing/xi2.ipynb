{
 "cells": [
  {
   "cell_type": "code",
   "execution_count": null,
   "id": "835ca713-b79d-44ec-a85d-1369f17782e6",
   "metadata": {},
   "outputs": [],
   "source": []
  }
 ],
 "metadata": {
  "kernelspec": {
   "display_name": "",
   "name": ""
  },
  "language_info": {
   "name": ""
  }
 },
 "nbformat": 4,
 "nbformat_minor": 5
}
